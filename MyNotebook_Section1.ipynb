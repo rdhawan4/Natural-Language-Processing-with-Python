{
 "cells": [
  {
   "cell_type": "markdown",
   "id": "ff9556bf",
   "metadata": {},
   "source": [
    "# Lesson 1"
   ]
  },
  {
   "cell_type": "markdown",
   "id": "5e79472e",
   "metadata": {},
   "source": [
    "### F Strings"
   ]
  },
  {
   "cell_type": "code",
   "execution_count": 3,
   "id": "79d77769",
   "metadata": {},
   "outputs": [
    {
     "name": "stdout",
     "output_type": "stream",
     "text": [
      "My name is Jose\n"
     ]
    }
   ],
   "source": [
    "name='Jose'\n",
    "\n",
    "# Old formt with Python 3.6\n",
    "print(\"My name is {}\".format(name))"
   ]
  },
  {
   "cell_type": "code",
   "execution_count": 6,
   "id": "b0e70ff7",
   "metadata": {},
   "outputs": [
    {
     "name": "stdout",
     "output_type": "stream",
     "text": [
      "My name is Jose\n"
     ]
    }
   ],
   "source": [
    "# New format with Python 3.7 and above\n",
    "# F string format\n",
    "print(f\"My name is {name}\")"
   ]
  },
  {
   "cell_type": "code",
   "execution_count": 11,
   "id": "997721b1",
   "metadata": {},
   "outputs": [
    {
     "name": "stdout",
     "output_type": "stream",
     "text": [
      "My number is 1234\n"
     ]
    }
   ],
   "source": [
    "# For dictionaries and lists as well\n",
    "d={'a':12,'b':1234}\n",
    "print(f\"My number is {d['b']}\")"
   ]
  },
  {
   "cell_type": "code",
   "execution_count": 13,
   "id": "7936ac17",
   "metadata": {},
   "outputs": [
    {
     "name": "stdout",
     "output_type": "stream",
     "text": [
      "My number from list is 12\n"
     ]
    }
   ],
   "source": [
    "lst=[0,12,3,4,5,7]\n",
    "print(f\"My number from list is {lst[1]}\")"
   ]
  },
  {
   "cell_type": "code",
   "execution_count": 14,
   "id": "3f668c95",
   "metadata": {},
   "outputs": [
    {
     "name": "stdout",
     "output_type": "stream",
     "text": [
      "('Author', 'Topic', 'Pages')\n",
      "('Twain', 'Rafting', 601)\n",
      "('Feynman', 'Physics', 95)\n",
      "('Hamilton', 'Mythology', 144)\n"
     ]
    }
   ],
   "source": [
    "# Tuple\n",
    "library = [('Author', 'Topic', 'Pages'), ('Twain', 'Rafting', 601), ('Feynman', 'Physics', 95), ('Hamilton', 'Mythology', 144)]\n",
    "\n",
    "for i in library:\n",
    "    print(i)"
   ]
  },
  {
   "cell_type": "code",
   "execution_count": 28,
   "id": "16686899",
   "metadata": {},
   "outputs": [
    {
     "name": "stdout",
     "output_type": "stream",
     "text": [
      "Author     Topic      -----Pages\n",
      "Twain      Rafting    -------601\n",
      "Feynman    Physics    --------95\n",
      "Hamilton   Mythology  -------144\n"
     ]
    }
   ],
   "source": [
    "for Author,Topic,Pages in library:\n",
    "    print(f'{Author:<{10}} {Topic:{10}} {Pages:->{10}}')"
   ]
  },
  {
   "cell_type": "markdown",
   "id": "8f6a9c3f",
   "metadata": {},
   "source": [
    "From Data Formating"
   ]
  },
  {
   "cell_type": "code",
   "execution_count": 32,
   "id": "643335db",
   "metadata": {},
   "outputs": [
    {
     "name": "stdout",
     "output_type": "stream",
     "text": [
      "2022-03-24 00:00:00\n"
     ]
    }
   ],
   "source": [
    "from datetime import datetime\n",
    "\n",
    "today=datetime(year=2022,month=3,day=24)\n",
    "print(f'{today}')"
   ]
  },
  {
   "cell_type": "code",
   "execution_count": 39,
   "id": "52faabe6",
   "metadata": {},
   "outputs": [
    {
     "name": "stdout",
     "output_type": "stream",
     "text": [
      "March\n",
      "Thu Mar 24 00:00:00 2022\n",
      "03/24/22\n",
      "00:00:00\n",
      "Thursday 24 March 2022\n"
     ]
    }
   ],
   "source": [
    "# strftime.org\n",
    "# Different TIme format\n",
    "print(f'{today:%B}')\n",
    "print(f'{today:%c}')\n",
    "print(f'{today:%x}')\n",
    "print(f'{today:%X}')\n",
    "print(f'{today:%A %d %B %Y}')"
   ]
  },
  {
   "cell_type": "markdown",
   "id": "57eabb50",
   "metadata": {},
   "source": [
    "# Lesson 2"
   ]
  },
  {
   "cell_type": "code",
   "execution_count": 40,
   "id": "aea5a1eb",
   "metadata": {},
   "outputs": [],
   "source": [
    "# Create a Text File\n",
    "# You can use a jupyter notebook magic function of create a .txt file manually"
   ]
  },
  {
   "cell_type": "code",
   "execution_count": 50,
   "id": "ffdd08d0",
   "metadata": {},
   "outputs": [
    {
     "data": {
      "text/plain": [
       "'C:\\\\Users\\\\dhawa\\\\Notebooks\\\\Udemy\\\\Resources'"
      ]
     },
     "execution_count": 50,
     "metadata": {},
     "output_type": "execute_result"
    }
   ],
   "source": [
    "pwd"
   ]
  },
  {
   "cell_type": "code",
   "execution_count": 41,
   "id": "a0a97916",
   "metadata": {},
   "outputs": [
    {
     "name": "stdout",
     "output_type": "stream",
     "text": [
      "Writing textfile.txt\n"
     ]
    }
   ],
   "source": [
    "%%writefile textfile.txt\n",
    "Hello, this is  a quick test file.\n",
    "This is the second  line of the file"
   ]
  },
  {
   "cell_type": "code",
   "execution_count": 47,
   "id": "a8b8eff8",
   "metadata": {},
   "outputs": [
    {
     "data": {
      "text/plain": [
       "'Hello, this is  a quick test file.\\nThis is the second  line of the file\\n'"
      ]
     },
     "execution_count": 47,
     "metadata": {},
     "output_type": "execute_result"
    }
   ],
   "source": [
    "myfile=open('textfile.txt')\n",
    "myfile.read()"
   ]
  },
  {
   "cell_type": "code",
   "execution_count": 48,
   "id": "3f21cc17",
   "metadata": {},
   "outputs": [
    {
     "data": {
      "text/plain": [
       "''"
      ]
     },
     "execution_count": 48,
     "metadata": {},
     "output_type": "execute_result"
    }
   ],
   "source": [
    "myfile.read()"
   ]
  },
  {
   "cell_type": "code",
   "execution_count": 49,
   "id": "aa6e3b2f",
   "metadata": {},
   "outputs": [
    {
     "data": {
      "text/plain": [
       "'Hello, this is  a quick test file.\\nThis is the second  line of the file\\n'"
      ]
     },
     "execution_count": 49,
     "metadata": {},
     "output_type": "execute_result"
    }
   ],
   "source": [
    "myfile.seek(0)\n",
    "myfile.read()"
   ]
  },
  {
   "cell_type": "code",
   "execution_count": 51,
   "id": "14a4281d",
   "metadata": {},
   "outputs": [],
   "source": [
    "myfile.seek(0)\n",
    "content=myfile.read()"
   ]
  },
  {
   "cell_type": "code",
   "execution_count": 52,
   "id": "7d052d90",
   "metadata": {},
   "outputs": [],
   "source": [
    "myfile.close()"
   ]
  },
  {
   "cell_type": "code",
   "execution_count": 62,
   "id": "e09d867d",
   "metadata": {},
   "outputs": [
    {
     "data": {
      "text/plain": [
       "['Hello, this is  a quick test file.\\n',\n",
       " 'This is the second  line of the file\\n']"
      ]
     },
     "execution_count": 62,
     "metadata": {},
     "output_type": "execute_result"
    }
   ],
   "source": [
    "myfile=open('textfile.txt')\n",
    "myfile.readlines()"
   ]
  },
  {
   "cell_type": "code",
   "execution_count": 63,
   "id": "01c48a5f",
   "metadata": {},
   "outputs": [
    {
     "name": "stdout",
     "output_type": "stream",
     "text": [
      "Hello, this is  a quick test file.\n",
      "\n",
      "This is the second  line of the file\n",
      "\n"
     ]
    }
   ],
   "source": [
    "myfile.seek(0)\n",
    "lines=myfile.readlines()\n",
    "\n",
    "for line in lines:\n",
    "    print(line)\n",
    "    \n",
    "myfile.close()"
   ]
  },
  {
   "cell_type": "code",
   "execution_count": 66,
   "id": "74d27b45",
   "metadata": {},
   "outputs": [],
   "source": [
    "# w+ will overwrite the original content of the text file and make it writeable\n",
    "myfile=open('textfile.txt','w+')\n",
    "myfile.read()\n",
    "myfile.write('My Brand New Text')\n",
    "myfile.seek(0)\n",
    "myfile.read()\n",
    "myfile.close()"
   ]
  },
  {
   "cell_type": "code",
   "execution_count": 67,
   "id": "c90a8634",
   "metadata": {},
   "outputs": [
    {
     "data": {
      "text/plain": [
       "'FirstLine in new file'"
      ]
     },
     "execution_count": 67,
     "metadata": {},
     "output_type": "execute_result"
    }
   ],
   "source": [
    "# Using +a for append and creation of new text file\n",
    "myfile=open('secondfile.txt','+a')\n",
    "myfile.write('FirstLine in new file')\n",
    "myfile.close()\n",
    "myfile=open('secondfile.txt')\n",
    "myfile.read()"
   ]
  },
  {
   "cell_type": "code",
   "execution_count": 68,
   "id": "7b7540b2",
   "metadata": {},
   "outputs": [],
   "source": [
    "myfile.close()"
   ]
  },
  {
   "cell_type": "code",
   "execution_count": 73,
   "id": "257d1bfd",
   "metadata": {},
   "outputs": [
    {
     "name": "stdout",
     "output_type": "stream",
     "text": [
      "FirstLine in new fileThis is second line\n",
      " This is third lineThis is second line\n",
      " This is third lineThis is second line\n",
      " This is third lineThis is second line\n",
      " This is third lineThis is second line\n",
      " This is third line\n"
     ]
    }
   ],
   "source": [
    "myfile=open('secondfile.txt','+a')\n",
    "myfile.write('This is second line')\n",
    "myfile.write('\\n This is third line')\n",
    "myfile.seek(0)\n",
    "myfile.read()\n",
    "myfile.seek(0)\n",
    "print(myfile.read())"
   ]
  },
  {
   "cell_type": "code",
   "execution_count": 74,
   "id": "6603b7cc",
   "metadata": {},
   "outputs": [],
   "source": [
    "myfile.close()"
   ]
  },
  {
   "cell_type": "code",
   "execution_count": 76,
   "id": "41ea3789",
   "metadata": {},
   "outputs": [],
   "source": [
    "with open('textfile.txt') as textfile:\n",
    "    output=textfile.readlines()"
   ]
  },
  {
   "cell_type": "code",
   "execution_count": 77,
   "id": "428522d6",
   "metadata": {},
   "outputs": [
    {
     "data": {
      "text/plain": [
       "['My Brand New Text']"
      ]
     },
     "execution_count": 77,
     "metadata": {},
     "output_type": "execute_result"
    }
   ],
   "source": [
    "output"
   ]
  },
  {
   "cell_type": "markdown",
   "id": "ac2a1a99",
   "metadata": {},
   "source": [
    "# Lesson 3\n",
    "#### PyPDF2 Read For Word processor extraction"
   ]
  },
  {
   "cell_type": "code",
   "execution_count": 80,
   "id": "b6522e38",
   "metadata": {},
   "outputs": [],
   "source": [
    "# !pip install PyPDF2\n",
    "import PyPDF2"
   ]
  },
  {
   "cell_type": "code",
   "execution_count": 93,
   "id": "04771ff9",
   "metadata": {},
   "outputs": [],
   "source": [
    "myfile=open('C:\\\\Users\\\\dhawa\\\\Notebooks\\\\Udemy\\\\Resources\\\\UPDATED_NLP_COURSE\\\\00-Python-Text-Basics\\\\US_Declaration.pdf'\n",
    "           ,mode='rb')"
   ]
  },
  {
   "cell_type": "code",
   "execution_count": 96,
   "id": "2fe2d3a0",
   "metadata": {},
   "outputs": [
    {
     "data": {
      "text/plain": [
       "5"
      ]
     },
     "execution_count": 96,
     "metadata": {},
     "output_type": "execute_result"
    }
   ],
   "source": [
    "pdf_reader=PyPDF2.PdfReader(myfile)\n",
    "\n",
    "len(pdf_reader.pages)"
   ]
  },
  {
   "cell_type": "code",
   "execution_count": 102,
   "id": "4154e7bd",
   "metadata": {
    "scrolled": true
   },
   "outputs": [
    {
     "data": {
      "text/plain": [
       "\"Declaration of Independence\\nIN CONGRESS, July 4, 1776.  \\nThe unanimous Declaration of the thirteen united States of America,  \\nWhen in the Course of human events, it becomes necessary for one people to dissolve thepolitical bands which have connected them with another, and to assume among the powers of theearth, the separate and equal station to which the Laws of Nature and of Nature's God entitlethem, a decent respect to the opinions of mankind requires that they should declare the causeswhich impel them to the separation. We hold these truths to be self-evident, that all men are created equal, that they are endowed bytheir Creator with certain unalienable Rights, that among these are Life, Liberty and the pursuit\\nof Happiness.— \\x14That to secure these rights, Governments are instituted among Men, derivingtheir just powers from the consent of the governed,—  \\x14That whenever any Form of Government\\nbecomes destructive of these ends, it is the Right of the People to alter or to abolish it, and to\\ninstitute new Government, laying its foundation on such principles and organizing its powers in\\nsuch form, as to them shall seem most likely to effect their Safety and Happiness. Prudence,indeed, will dictate that Governments long established should not be changed for light andtransient causes; and accordingly all experience hath shewn, that mankind are more disposed to\\nsuffer, while evils are sufferable, than to right themselves by abolishing the forms to which theyare accustomed. But when a long train of abuses and usurpations, pursuing invariably the same\\nObject evinces a design to reduce them under absolute Despotism, it is their right, it is their duty,\\nto throw off such Government, and to provide new Guards for their future securit y.— \\x14Such has\\nbeen the patient sufferance of these Colonies; and such is now the necessity which constrainsthem to alter their former Systems of Government. The history of the present King of GreatBritain is a history of repeated injuries and usurpations, all having in direct object the\\nestablishment of an absolute Tyranny over these States. To prove this, let Facts be submitted to a\\ncandid world. \\nHe has refused his Assent to Laws, the most wholesome and necessary for the\\npublic good.He has forbidden his Governors to pass Laws of immediate and pressingimportance, unless suspended in their operation till his Assent should be obtained;and when so suspended, he has utterly neglected to attend to them.He has refused to pass other Laws for the accommodation of large districts of\\npeople, unless those people would relinquish the right of Representation in theLegislature, a right inestimable to them and formidable to tyrants only. He has called together legislative bodies at places unusual, uncomfortable, and distantfrom the depository of their public Records, for the sole purpose of fatiguing them into\\ncompliance with his measures.\""
      ]
     },
     "execution_count": 102,
     "metadata": {},
     "output_type": "execute_result"
    }
   ],
   "source": [
    "pageone=pdf_reader.pages[0]\n",
    "pageone. extract_text()"
   ]
  },
  {
   "cell_type": "code",
   "execution_count": 103,
   "id": "85133fc8",
   "metadata": {
    "scrolled": true
   },
   "outputs": [
    {
     "name": "stdout",
     "output_type": "stream",
     "text": [
      "Declaration of Independence\n",
      "IN CONGRESS, July 4, 1776.  \n",
      "The unanimous Declaration of the thirteen united States of America,  \n",
      "When in the Course of human events, it becomes necessary for one people to dissolve thepolitical bands which have connected them with another, and to assume among the powers of theearth, the separate and equal station to which the Laws of Nature and of Nature's God entitlethem, a decent respect to the opinions of mankind requires that they should declare the causeswhich impel them to the separation. We hold these truths to be self-evident, that all men are created equal, that they are endowed bytheir Creator with certain unalienable Rights, that among these are Life, Liberty and the pursuit\n",
      "of Happiness.— \u0014That to secure these rights, Governments are instituted among Men, derivingtheir just powers from the consent of the governed,—  \u0014That whenever any Form of Government\n",
      "becomes destructive of these ends, it is the Right of the People to alter or to abolish it, and to\n",
      "institute new Government, laying its foundation on such principles and organizing its powers in\n",
      "such form, as to them shall seem most likely to effect their Safety and Happiness. Prudence,indeed, will dictate that Governments long established should not be changed for light andtransient causes; and accordingly all experience hath shewn, that mankind are more disposed to\n",
      "suffer, while evils are sufferable, than to right themselves by abolishing the forms to which theyare accustomed. But when a long train of abuses and usurpations, pursuing invariably the same\n",
      "Object evinces a design to reduce them under absolute Despotism, it is their right, it is their duty,\n",
      "to throw off such Government, and to provide new Guards for their future securit y.— \u0014Such has\n",
      "been the patient sufferance of these Colonies; and such is now the necessity which constrainsthem to alter their former Systems of Government. The history of the present King of GreatBritain is a history of repeated injuries and usurpations, all having in direct object the\n",
      "establishment of an absolute Tyranny over these States. To prove this, let Facts be submitted to a\n",
      "candid world. \n",
      "He has refused his Assent to Laws, the most wholesome and necessary for the\n",
      "public good.He has forbidden his Governors to pass Laws of immediate and pressingimportance, unless suspended in their operation till his Assent should be obtained;and when so suspended, he has utterly neglected to attend to them.He has refused to pass other Laws for the accommodation of large districts of\n",
      "people, unless those people would relinquish the right of Representation in theLegislature, a right inestimable to them and formidable to tyrants only. He has called together legislative bodies at places unusual, uncomfortable, and distantfrom the depository of their public Records, for the sole purpose of fatiguing them into\n",
      "compliance with his measures.\n"
     ]
    }
   ],
   "source": [
    "print(pageone.extract_text())"
   ]
  },
  {
   "cell_type": "code",
   "execution_count": 104,
   "id": "2be4886b",
   "metadata": {},
   "outputs": [],
   "source": [
    "mytextpageone=pageone.extract_text()\n",
    "myfile.close()"
   ]
  },
  {
   "cell_type": "markdown",
   "id": "8429bc19",
   "metadata": {},
   "source": [
    "# Lesson 4 : REGEX"
   ]
  },
  {
   "cell_type": "code",
   "execution_count": 1,
   "id": "3c8bcfc0",
   "metadata": {},
   "outputs": [
    {
     "data": {
      "text/plain": [
       "True"
      ]
     },
     "execution_count": 1,
     "metadata": {},
     "output_type": "execute_result"
    }
   ],
   "source": [
    "'480' in '4808764'"
   ]
  },
  {
   "cell_type": "markdown",
   "id": "c1fcc14f",
   "metadata": {},
   "source": [
    "Syntax for regex experssion <br>\n",
    "r'\\d{3}-\\d{3}-\\d{4}'"
   ]
  },
  {
   "cell_type": "markdown",
   "id": "1f6d07d8",
   "metadata": {},
   "source": [
    "\\d means find digits of size {n} then dash then find digits of size {n} then dash ..."
   ]
  },
  {
   "cell_type": "code",
   "execution_count": 2,
   "id": "ffbaa9f3",
   "metadata": {},
   "outputs": [],
   "source": [
    "text='The phone number of the agent is 408-555-1234. Call soon!'"
   ]
  },
  {
   "cell_type": "code",
   "execution_count": 3,
   "id": "b3313522",
   "metadata": {},
   "outputs": [
    {
     "data": {
      "text/plain": [
       "True"
      ]
     },
     "execution_count": 3,
     "metadata": {},
     "output_type": "execute_result"
    }
   ],
   "source": [
    "'phone' in text"
   ]
  },
  {
   "cell_type": "code",
   "execution_count": 5,
   "id": "77b528c7",
   "metadata": {},
   "outputs": [
    {
     "data": {
      "text/plain": [
       "True"
      ]
     },
     "execution_count": 5,
     "metadata": {},
     "output_type": "execute_result"
    }
   ],
   "source": [
    "'408-555-1234' in text"
   ]
  },
  {
   "cell_type": "code",
   "execution_count": 6,
   "id": "61fbdadc",
   "metadata": {},
   "outputs": [],
   "source": [
    "import re\n",
    "pattern='phone'"
   ]
  },
  {
   "cell_type": "code",
   "execution_count": 8,
   "id": "616ac899",
   "metadata": {},
   "outputs": [],
   "source": [
    "mymatch=re.search(pattern,text)"
   ]
  },
  {
   "cell_type": "code",
   "execution_count": 11,
   "id": "c5343ad5",
   "metadata": {},
   "outputs": [
    {
     "name": "stdout",
     "output_type": "stream",
     "text": [
      "(4, 9)\n",
      "4\n",
      "9\n"
     ]
    }
   ],
   "source": [
    "print(mymatch.span())\n",
    "print(mymatch.start())\n",
    "print(mymatch.end())"
   ]
  },
  {
   "cell_type": "code",
   "execution_count": 13,
   "id": "fdfef9ef",
   "metadata": {},
   "outputs": [
    {
     "data": {
      "text/plain": [
       "(3, 8)"
      ]
     },
     "execution_count": 13,
     "metadata": {},
     "output_type": "execute_result"
    }
   ],
   "source": [
    "text='my phone is a new phone'\n",
    "pattern='phone'\n",
    "match=re.search(pattern,text)\n",
    "\n",
    "match.span()\n",
    "# One first instance"
   ]
  },
  {
   "cell_type": "code",
   "execution_count": 24,
   "id": "32fd0899",
   "metadata": {},
   "outputs": [
    {
     "name": "stdout",
     "output_type": "stream",
     "text": [
      "2\n"
     ]
    }
   ],
   "source": [
    "match=re.findall(pattern,text)\n",
    "print(len(match))"
   ]
  },
  {
   "cell_type": "code",
   "execution_count": 25,
   "id": "24219679",
   "metadata": {},
   "outputs": [
    {
     "name": "stdout",
     "output_type": "stream",
     "text": [
      "<re.Match object; span=(3, 8), match='phone'> \n",
      " location: (3, 8)\n",
      "<re.Match object; span=(18, 23), match='phone'> \n",
      " location: (18, 23)\n"
     ]
    }
   ],
   "source": [
    "# if you want to iterate through the search points\n",
    "for x in re.finditer(pattern,text):\n",
    "    print(x, '\\n location:',x.span())"
   ]
  },
  {
   "cell_type": "markdown",
   "id": "7ffcd687",
   "metadata": {},
   "source": [
    "### Identifiers\n",
    "<table ><tr><th>Character</th><th>Description</th><th>Example Pattern Code</th><th >Exammple Match</th></tr>\n",
    "\n",
    "<tr ><td><span >\\d</span></td><td>A digit</td><td>file_\\d\\d</td><td>file_25</td></tr>\n",
    "\n",
    "<tr ><td><span >\\w</span></td><td>Alphanumeric</td><td>\\w-\\w\\w\\w</td><td>A-b_1</td></tr>\n",
    "\n",
    "\n",
    "\n",
    "<tr ><td><span >\\s</span></td><td>White space</td><td>a\\sb\\sc</td><td>a b c</td></tr>\n",
    "\n",
    "\n",
    "\n",
    "<tr ><td><span >\\D</span></td><td>A non digit</td><td>\\D\\D\\D</td><td>ABC</td></tr>\n",
    "\n",
    "<tr ><td><span >\\W</span></td><td>Non-alphanumeric</td><td>\\W\\W\\W\\W\\W</td><td>*-+=)</td></tr>\n",
    "\n",
    "<tr ><td><span >\\S</span></td><td>Non-whitespace</td><td>\\S\\S\\S\\S</td><td>Yoyo</td></tr></table>"
   ]
  },
  {
   "cell_type": "code",
   "execution_count": 41,
   "id": "8e64b7a5",
   "metadata": {},
   "outputs": [
    {
     "name": "stdout",
     "output_type": "stream",
     "text": [
      "(23, 35)\n",
      "408-555-1234\n",
      "My telephone number is 408-555-1234. Call soon!\n"
     ]
    },
    {
     "data": {
      "text/plain": [
       "2"
      ]
     },
     "execution_count": 41,
     "metadata": {},
     "output_type": "execute_result"
    }
   ],
   "source": [
    "text='My telephone number is 408-555-1234. Call soon!'\n",
    "\n",
    "pattern=r'\\d\\d\\d-\\d\\d\\d-\\d\\d\\d\\d'\n",
    "\n",
    "match=re.search(pattern,text)\n",
    "print(match.span())\n",
    "print(match.group())\n",
    "print(match.string)\n",
    "\n",
    "sixdigword=r'\\w\\w\\w\\w\\w\\w'\n",
    "match=re.findall(fivedigword,text)\n",
    "len(match)"
   ]
  },
  {
   "cell_type": "markdown",
   "id": "23952ab6",
   "metadata": {},
   "source": [
    "### Quantifiers\n",
    "<table ><tr><th>Character</th><th>Description</th><th>Example Pattern Code</th><th >Exammple Match</th></tr>\n",
    "\n",
    "<tr ><td><span >+</span></td><td>Occurs one or more times</td><td>\tVersion \\w-\\w+</td><td>Version A-b1_1</td></tr>\n",
    "\n",
    "<tr ><td><span >{3}</span></td><td>Occurs exactly 3 times</td><td>\\D{3}</td><td>abc</td></tr>\n",
    "\n",
    "\n",
    "\n",
    "<tr ><td><span >{2,4}</span></td><td>Occurs 2 to 4 times</td><td>\\d{2,4}</td><td>123</td></tr>\n",
    "\n",
    "\n",
    "\n",
    "<tr ><td><span >{3,}</span></td><td>Occurs 3 or more</td><td>\\w{3,}</td><td>anycharacters</td></tr>\n",
    "\n",
    "<tr ><td><span >\\*</span></td><td>Occurs zero or more times</td><td>A\\*B\\*C*</td><td>AAACC</td></tr>\n",
    "\n",
    "<tr ><td><span >?</span></td><td>Once or none</td><td>plurals?</td><td>plural</td></tr></table>"
   ]
  },
  {
   "cell_type": "code",
   "execution_count": 42,
   "id": "54755ca3",
   "metadata": {},
   "outputs": [
    {
     "name": "stdout",
     "output_type": "stream",
     "text": [
      "(23, 35)\n",
      "408-555-1234\n",
      "My telephone number is 408-555-1234. Call soon!\n"
     ]
    }
   ],
   "source": [
    "text='My telephone number is 408-555-1234. Call soon!'\n",
    "\n",
    "pattern=r'\\d{3}-\\d{3}-\\d{4}'\n",
    "\n",
    "match=re.search(pattern,text)\n",
    "print(match.span())\n",
    "print(match.group())\n",
    "print(match.string)"
   ]
  },
  {
   "cell_type": "markdown",
   "id": "8a1d1343",
   "metadata": {},
   "source": [
    "# Lesson 5"
   ]
  },
  {
   "cell_type": "code",
   "execution_count": 47,
   "id": "21205a35",
   "metadata": {},
   "outputs": [
    {
     "name": "stdout",
     "output_type": "stream",
     "text": [
      "(23, 35)\n",
      "408-555-1234\n",
      "408 \n",
      " 555 \n",
      " 1234\n",
      "My telephone number is 408-555-1234. Call soon!\n"
     ]
    }
   ],
   "source": [
    "text='My telephone number is 408-555-1234. Call soon!'\n",
    "\n",
    "pattern=r'(\\d{3})-(\\d{3})-(\\d{4})'\n",
    "\n",
    "match=re.search(pattern,text)\n",
    "print(match.span())\n",
    "print(match.group())\n",
    "print(match.group(1),'\\n',match.group(2),'\\n',match.group(3))\n",
    "print(match.string)"
   ]
  },
  {
   "cell_type": "code",
   "execution_count": 53,
   "id": "367511ed",
   "metadata": {},
   "outputs": [
    {
     "name": "stdout",
     "output_type": "stream",
     "text": [
      "(2, 5)\n",
      "man\n"
     ]
    }
   ],
   "source": [
    "# Or Operators\n",
    "match=re.search(r'man|woman','A man was here')\n",
    "print(match.span())\n",
    "print(match.group())"
   ]
  },
  {
   "cell_type": "code",
   "execution_count": 52,
   "id": "6645c98d",
   "metadata": {},
   "outputs": [
    {
     "name": "stdout",
     "output_type": "stream",
     "text": [
      "(2, 5)\n",
      "man\n"
     ]
    }
   ],
   "source": [
    "# Wildcard operator \".\"\n",
    "match=re.search(r'.an','A man was here')\n",
    "print(match.span())\n",
    "print(match.group())"
   ]
  },
  {
   "cell_type": "code",
   "execution_count": 55,
   "id": "912fd52c",
   "metadata": {},
   "outputs": [
    {
     "ename": "AttributeError",
     "evalue": "'list' object has no attribute 'span'",
     "output_type": "error",
     "traceback": [
      "\u001b[1;31m---------------------------------------------------------------------------\u001b[0m",
      "\u001b[1;31mAttributeError\u001b[0m                            Traceback (most recent call last)",
      "\u001b[1;32m~\\AppData\\Local\\Temp\\ipykernel_9532\\529025953.py\u001b[0m in \u001b[0;36m<module>\u001b[1;34m\u001b[0m\n\u001b[0;32m      2\u001b[0m \u001b[1;31m# $ Ends with\u001b[0m\u001b[1;33m\u001b[0m\u001b[1;33m\u001b[0m\u001b[1;33m\u001b[0m\u001b[0m\n\u001b[0;32m      3\u001b[0m \u001b[0mmatch\u001b[0m\u001b[1;33m=\u001b[0m\u001b[0mre\u001b[0m\u001b[1;33m.\u001b[0m\u001b[0mfindall\u001b[0m\u001b[1;33m(\u001b[0m\u001b[1;34mr'^m'\u001b[0m\u001b[1;33m,\u001b[0m\u001b[1;34m'A man was here'\u001b[0m\u001b[1;33m)\u001b[0m\u001b[1;33m\u001b[0m\u001b[1;33m\u001b[0m\u001b[0m\n\u001b[1;32m----> 4\u001b[1;33m \u001b[0mmatch\u001b[0m\u001b[1;33m.\u001b[0m\u001b[0mspan\u001b[0m\u001b[1;33m(\u001b[0m\u001b[1;33m)\u001b[0m\u001b[1;33m\u001b[0m\u001b[1;33m\u001b[0m\u001b[0m\n\u001b[0m",
      "\u001b[1;31mAttributeError\u001b[0m: 'list' object has no attribute 'span'"
     ]
    }
   ],
   "source": [
    "# ^ Starts with \n",
    "# $ Ends with\n",
    "match=re.findall(r'^m','A man was here')\n",
    "match.span()"
   ]
  },
  {
   "cell_type": "code",
   "execution_count": 57,
   "id": "6ede7e34",
   "metadata": {},
   "outputs": [
    {
     "data": {
      "text/plain": [
       "(0, 1)"
      ]
     },
     "execution_count": 57,
     "metadata": {},
     "output_type": "execute_result"
    }
   ],
   "source": [
    "match=re.search(r'^m','man was here')\n",
    "match.span()"
   ]
  },
  {
   "cell_type": "code",
   "execution_count": 73,
   "id": "af5b41b3",
   "metadata": {},
   "outputs": [],
   "source": [
    "# to exclude characters/number\n",
    "# [^  ]+\n",
    "phrase=\"there are 3 numbers 34 insider 5 this sentence\""
   ]
  },
  {
   "cell_type": "code",
   "execution_count": 63,
   "id": "f67de217",
   "metadata": {},
   "outputs": [
    {
     "data": {
      "text/plain": [
       "['there are ', ' numbers ', ' insider ', ' this sentence']"
      ]
     },
     "execution_count": 63,
     "metadata": {},
     "output_type": "execute_result"
    }
   ],
   "source": [
    "re.findall('[^\\d]+',phrase)"
   ]
  },
  {
   "cell_type": "code",
   "execution_count": 64,
   "id": "1024fea0",
   "metadata": {},
   "outputs": [],
   "source": [
    "testphrase='THis is a string! but it has a punctuation. how to remove it?'"
   ]
  },
  {
   "cell_type": "code",
   "execution_count": 70,
   "id": "cca877c1",
   "metadata": {},
   "outputs": [
    {
     "data": {
      "text/plain": [
       "['THis is a string', ' but it has a punctuation', ' how to remove it']"
      ]
     },
     "execution_count": 70,
     "metadata": {},
     "output_type": "execute_result"
    }
   ],
   "source": [
    "mylist=re.findall(r'[^!.?]+',testphrase)\n",
    "mylist"
   ]
  },
  {
   "cell_type": "code",
   "execution_count": 72,
   "id": "a9724628",
   "metadata": {},
   "outputs": [
    {
     "data": {
      "text/plain": [
       "'THis is a string  but it has a punctuation  how to remove it'"
      ]
     },
     "execution_count": 72,
     "metadata": {},
     "output_type": "execute_result"
    }
   ],
   "source": [
    "' '.join(mylist)"
   ]
  },
  {
   "cell_type": "code",
   "execution_count": 77,
   "id": "26c4346f",
   "metadata": {},
   "outputs": [
    {
     "data": {
      "text/plain": [
       "['hyper-words', 'long-ish']"
      ]
     },
     "execution_count": 77,
     "metadata": {},
     "output_type": "execute_result"
    }
   ],
   "source": [
    "text=\"only find the hyper-words. Where are the long-ish dash words?\"\n",
    "\n",
    "re.findall(r'[\\w]+-[\\w]+',text)"
   ]
  },
  {
   "cell_type": "markdown",
   "id": "93d2af0b",
   "metadata": {},
   "source": [
    "END"
   ]
  }
 ],
 "metadata": {
  "kernelspec": {
   "display_name": "Python 3 (ipykernel)",
   "language": "python",
   "name": "python3"
  },
  "language_info": {
   "codemirror_mode": {
    "name": "ipython",
    "version": 3
   },
   "file_extension": ".py",
   "mimetype": "text/x-python",
   "name": "python",
   "nbconvert_exporter": "python",
   "pygments_lexer": "ipython3",
   "version": "3.7.15"
  }
 },
 "nbformat": 4,
 "nbformat_minor": 5
}
